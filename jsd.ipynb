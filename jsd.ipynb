{
 "cells": [
  {
   "cell_type": "code",
   "execution_count": 1,
   "id": "162c51f0",
   "metadata": {},
   "outputs": [],
   "source": [
    "import pickle\n",
    "import torch\n",
    "import numpy as np\n",
    "from scipy.spatial.distance import jensenshannon\n",
    "\n"
   ]
  },
  {
   "cell_type": "code",
   "execution_count": 2,
   "id": "10f18b91",
   "metadata": {},
   "outputs": [],
   "source": [
    "def pairwise_jensen_shannon(lists):\n",
    "\n",
    "    n = len(lists)\n",
    "    jsw = np.zeros((n, n))\n",
    "    for i in range(n):\n",
    "        for j in range(n):\n",
    "            #print(i,j)\n",
    "            if i == j:\n",
    "                #print('same')\n",
    "                jsw[i,j] = 0\n",
    "            else:\n",
    "                jsw[i,j] = jensenshannon(lists[i], lists[j])\n",
    "    return np.mean(jsw)"
   ]
  },
  {
   "cell_type": "code",
   "execution_count": 3,
   "id": "d492b52e",
   "metadata": {},
   "outputs": [],
   "source": [
    "def get_lists(target, partition):\n",
    "    lists = []\n",
    "    for client in range(partition['separation']['total']):\n",
    "        #print(client)\n",
    "        client_list = np.zeros(200)\n",
    "  \n",
    "        #for t in range(200):\n",
    "        for index in partition['data_indices'][client]['train']:\n",
    "            client_list[target[index]] += 1\n",
    "            \n",
    "            \n",
    "        #client_list = np.array([target[index] for i in range(200)])\n",
    "\n",
    "        #[target[index] for index in partition['data_indices'][client]['train']]\n",
    "        \n",
    "        lists.append(client_list)\n",
    "    return np.array(lists)"
   ]
  },
  {
   "cell_type": "code",
   "execution_count": 4,
   "id": "10163452",
   "metadata": {},
   "outputs": [
    {
     "ename": "NameError",
     "evalue": "name 'model' is not defined",
     "output_type": "error",
     "traceback": [
      "\u001b[0;31m---------------------------------------------------------------------------\u001b[0m",
      "\u001b[0;31mNameError\u001b[0m                                 Traceback (most recent call last)",
      "\u001b[0;32m/var/folders/7m/mb1g24856dv7bn_3c47yzmth0000gn/T/ipykernel_87816/1152309470.py\u001b[0m in \u001b[0;36m<module>\u001b[0;34m\u001b[0m\n\u001b[0;32m----> 1\u001b[0;31m \u001b[0mlists\u001b[0m \u001b[0;34m=\u001b[0m \u001b[0mget_lists\u001b[0m\u001b[0;34m(\u001b[0m\u001b[0mmodel\u001b[0m\u001b[0;34m.\u001b[0m\u001b[0mnumpy\u001b[0m\u001b[0;34m(\u001b[0m\u001b[0;34m)\u001b[0m\u001b[0;34m,\u001b[0m \u001b[0mdata\u001b[0m\u001b[0;34m)\u001b[0m\u001b[0;34m\u001b[0m\u001b[0;34m\u001b[0m\u001b[0m\n\u001b[0m",
      "\u001b[0;31mNameError\u001b[0m: name 'model' is not defined"
     ]
    }
   ],
   "source": [
    "#lists = get_lists(model.numpy(), data)"
   ]
  },
  {
   "cell_type": "code",
   "execution_count": 7,
   "id": "b4bb283b",
   "metadata": {},
   "outputs": [
    {
     "name": "stdout",
     "output_type": "stream",
     "text": [
      "1000 0.09718716530906833\n",
      "1 0.4435590489249171\n",
      "0.01 0.7835275081470499\n"
     ]
    }
   ],
   "source": [
    "model = torch.load('targets.pt')\n",
    "for alpha in [1000, 1, .01]:\n",
    "    with open(f'alpha={alpha}/partition.pkl', 'rb') as f:\n",
    "        data = pickle.load(f)\n",
    "        lists = get_lists(model.numpy(), data)\n",
    "        print(alpha, pairwise_jensen_shannon(lists))"
   ]
  },
  {
   "cell_type": "code",
   "execution_count": null,
   "id": "3e287952",
   "metadata": {
    "scrolled": true
   },
   "outputs": [],
   "source": []
  },
  {
   "cell_type": "code",
   "execution_count": null,
   "id": "b4f5aa70",
   "metadata": {},
   "outputs": [],
   "source": []
  },
  {
   "cell_type": "code",
   "execution_count": null,
   "id": "8aff7e53",
   "metadata": {},
   "outputs": [],
   "source": [
    "\n"
   ]
  },
  {
   "cell_type": "code",
   "execution_count": null,
   "id": "aa877302",
   "metadata": {},
   "outputs": [],
   "source": []
  },
  {
   "cell_type": "code",
   "execution_count": null,
   "id": "7b3ee57d",
   "metadata": {},
   "outputs": [],
   "source": []
  },
  {
   "cell_type": "code",
   "execution_count": null,
   "id": "8bc64410",
   "metadata": {},
   "outputs": [],
   "source": []
  },
  {
   "cell_type": "code",
   "execution_count": null,
   "id": "f0502e37",
   "metadata": {},
   "outputs": [],
   "source": []
  },
  {
   "cell_type": "code",
   "execution_count": null,
   "id": "37ae26e7",
   "metadata": {},
   "outputs": [],
   "source": []
  },
  {
   "cell_type": "code",
   "execution_count": null,
   "id": "d425c280",
   "metadata": {},
   "outputs": [],
   "source": []
  },
  {
   "cell_type": "code",
   "execution_count": null,
   "id": "0e8f77dc",
   "metadata": {},
   "outputs": [],
   "source": []
  },
  {
   "cell_type": "code",
   "execution_count": null,
   "id": "8648d9ae",
   "metadata": {},
   "outputs": [],
   "source": []
  }
 ],
 "metadata": {
  "kernelspec": {
   "display_name": "Python 3 (ipykernel)",
   "language": "python",
   "name": "python3"
  },
  "language_info": {
   "codemirror_mode": {
    "name": "ipython",
    "version": 3
   },
   "file_extension": ".py",
   "mimetype": "text/x-python",
   "name": "python",
   "nbconvert_exporter": "python",
   "pygments_lexer": "ipython3",
   "version": "3.9.13"
  }
 },
 "nbformat": 4,
 "nbformat_minor": 5
}
